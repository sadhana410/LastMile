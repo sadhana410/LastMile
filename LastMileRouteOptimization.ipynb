{
  "nbformat": 4,
  "nbformat_minor": 0,
  "metadata": {
    "colab": {
      "provenance": [],
      "gpuType": "T4"
    },
    "kernelspec": {
      "name": "python3",
      "display_name": "Python 3"
    },
    "language_info": {
      "name": "python"
    },
    "accelerator": "GPU"
  },
  "cells": [
    {
      "cell_type": "code",
      "source": [
        "pip install ortools requests folium"
      ],
      "metadata": {
        "colab": {
          "base_uri": "https://localhost:8080/"
        },
        "id": "bBVzgDUoGds0",
        "outputId": "16d33ce6-0c24-4f74-8543-f6b45c9e82d7"
      },
      "execution_count": 3,
      "outputs": [
        {
          "output_type": "stream",
          "name": "stdout",
          "text": [
            "Requirement already satisfied: ortools in /usr/local/lib/python3.10/dist-packages (9.9.3963)\n",
            "Requirement already satisfied: requests in /usr/local/lib/python3.10/dist-packages (2.31.0)\n",
            "Requirement already satisfied: folium in /usr/local/lib/python3.10/dist-packages (0.14.0)\n",
            "Requirement already satisfied: absl-py>=2.0.0 in /usr/local/lib/python3.10/dist-packages (from ortools) (2.1.0)\n",
            "Requirement already satisfied: numpy>=1.13.3 in /usr/local/lib/python3.10/dist-packages (from ortools) (1.25.2)\n",
            "Requirement already satisfied: pandas>=2.0.0 in /usr/local/lib/python3.10/dist-packages (from ortools) (2.0.3)\n",
            "Requirement already satisfied: protobuf>=4.25.3 in /usr/local/lib/python3.10/dist-packages (from ortools) (5.26.1)\n",
            "Requirement already satisfied: immutabledict>=3.0.0 in /usr/local/lib/python3.10/dist-packages (from ortools) (4.2.0)\n",
            "Requirement already satisfied: charset-normalizer<4,>=2 in /usr/local/lib/python3.10/dist-packages (from requests) (3.3.2)\n",
            "Requirement already satisfied: idna<4,>=2.5 in /usr/local/lib/python3.10/dist-packages (from requests) (3.7)\n",
            "Requirement already satisfied: urllib3<3,>=1.21.1 in /usr/local/lib/python3.10/dist-packages (from requests) (2.0.7)\n",
            "Requirement already satisfied: certifi>=2017.4.17 in /usr/local/lib/python3.10/dist-packages (from requests) (2024.2.2)\n",
            "Requirement already satisfied: branca>=0.6.0 in /usr/local/lib/python3.10/dist-packages (from folium) (0.7.2)\n",
            "Requirement already satisfied: jinja2>=2.9 in /usr/local/lib/python3.10/dist-packages (from folium) (3.1.3)\n",
            "Requirement already satisfied: MarkupSafe>=2.0 in /usr/local/lib/python3.10/dist-packages (from jinja2>=2.9->folium) (2.1.5)\n",
            "Requirement already satisfied: python-dateutil>=2.8.2 in /usr/local/lib/python3.10/dist-packages (from pandas>=2.0.0->ortools) (2.8.2)\n",
            "Requirement already satisfied: pytz>=2020.1 in /usr/local/lib/python3.10/dist-packages (from pandas>=2.0.0->ortools) (2023.4)\n",
            "Requirement already satisfied: tzdata>=2022.1 in /usr/local/lib/python3.10/dist-packages (from pandas>=2.0.0->ortools) (2024.1)\n",
            "Requirement already satisfied: six>=1.5 in /usr/local/lib/python3.10/dist-packages (from python-dateutil>=2.8.2->pandas>=2.0.0->ortools) (1.16.0)\n"
          ]
        }
      ]
    },
    {
      "cell_type": "code",
      "source": [
        "from ortools.constraint_solver import routing_enums_pb2\n",
        "from ortools.constraint_solver import pywrapcp\n",
        "import requests\n",
        "import folium\n",
        "import json\n",
        "from math import radians, sin, cos, sqrt, atan2\n",
        "import requests"
      ],
      "metadata": {
        "id": "EuR_GT2NHFxU"
      },
      "execution_count": 4,
      "outputs": []
    },
    {
      "cell_type": "code",
      "source": [
        "# Function to calculate distance between two points using Haversine formula\n",
        "def haversine_distance(lat1, lon1, lat2, lon2):\n",
        "    # Radius of the Earth in kilometers\n",
        "    R = 6371.0\n",
        "\n",
        "    # Convert latitude and longitude from degrees to radians\n",
        "    lat1_rad = radians(lat1)\n",
        "    lon1_rad = radians(lon1)\n",
        "    lat2_rad = radians(lat2)\n",
        "    lon2_rad = radians(lon2)\n",
        "\n",
        "    # Calculate the differences\n",
        "    dlat = lat2_rad - lat1_rad\n",
        "    dlon = lon2_rad - lon1_rad\n",
        "\n",
        "    # Calculate distance using Haversine formula\n",
        "    a = sin(dlat / 2)**2 + cos(lat1_rad) * cos(lat2_rad) * sin(dlon / 2)**2\n",
        "    c = 2 * atan2(sqrt(a), sqrt(1 - a))\n",
        "    distance = R * c\n",
        "\n",
        "    return distance"
      ],
      "metadata": {
        "id": "j0b1sU6rclJ4"
      },
      "execution_count": 5,
      "outputs": []
    },
    {
      "cell_type": "code",
      "source": [
        "# Function to calculate distance matrix\n",
        "def calculate_distance_matrix(locations):\n",
        "    num_locations = len(locations)\n",
        "    distance_matrix = []\n",
        "\n",
        "    for i in range(num_locations):\n",
        "        row = []\n",
        "        for j in range(num_locations):\n",
        "            if i == j:\n",
        "                row.append(0)  # Distance from a location to itself is 0\n",
        "            else:\n",
        "                lat1, lon1 = locations[i]\n",
        "                lat2, lon2 = locations[j]\n",
        "                distance = haversine_distance(lat1, lon1, lat2, lon2)\n",
        "                row.append(int(round(distance, 2)*1000))  # Round distance to 2 decimal places\n",
        "        distance_matrix.append(row)\n",
        "\n",
        "    return distance_matrix"
      ],
      "metadata": {
        "id": "m0lqYI1edY0E"
      },
      "execution_count": 6,
      "outputs": []
    },
    {
      "cell_type": "code",
      "source": [
        "# Latitude and longitude values for 7 locations in Chennai\n",
        "chennai_locations = [\n",
        "    (13.08726, 80.2739),  # Anna Nagar\n",
        "    (13.08498, 80.2707),  # Kilpauk\n",
        "    (13.09182, 80.2707),  # Chetpet\n",
        "    (13.0827, 80.2715),   # Egmore\n",
        "    (13.08384, 80.2715),  # Nungambakkam\n",
        "    (13.0884, 80.2723),   # Thousand Lights\n",
        "    (13.09068, 80.2723)   # Teynampet\n",
        "]\n",
        "\n",
        "# Calculate the distance matrix\n",
        "distance_matrix = calculate_distance_matrix(chennai_locations)\n",
        "\n",
        "# Print the distance matrix\n",
        "for row in distance_matrix:\n",
        "    print(row)"
      ],
      "metadata": {
        "colab": {
          "base_uri": "https://localhost:8080/"
        },
        "id": "Gmn_HRgtdc8-",
        "outputId": "50c14f5b-80cf-42d6-dac9-1dfe7087622c"
      },
      "execution_count": 7,
      "outputs": [
        {
          "output_type": "stream",
          "name": "stdout",
          "text": [
            "[0, 430, 610, 570, 460, 210, 420]\n",
            "[430, 0, 760, 270, 150, 420, 660]\n",
            "[610, 760, 0, 1020, 890, 420, 210]\n",
            "[570, 270, 1020, 0, 130, 640, 890]\n",
            "[460, 150, 890, 130, 0, 510, 770]\n",
            "[210, 420, 420, 640, 510, 0, 250]\n",
            "[420, 660, 210, 890, 770, 250, 0]\n"
          ]
        }
      ]
    },
    {
      "cell_type": "code",
      "source": [
        "def create_data_model():\n",
        "    #data from the co-ordinates\n",
        "    data = {}\n",
        "    data[\"distance_matrix\"] = calculate_distance_matrix(chennai_locations)\n",
        "    data[\"num_vehicles\"] = 3\n",
        "    data[\"depot\"] = 0\n",
        "    return data"
      ],
      "metadata": {
        "id": "qpgmHOGwRj0C"
      },
      "execution_count": 8,
      "outputs": []
    },
    {
      "cell_type": "code",
      "source": [
        "def print_solution(data, manager, routing, solution):\n",
        "    #printing the routes\n",
        "    print(f\"Objective: {solution.ObjectiveValue()}\")\n",
        "    max_route_distance = 0\n",
        "    routes_sol=[]\n",
        "    for vehicle_id in range(data[\"num_vehicles\"]):\n",
        "        index = routing.Start(vehicle_id)\n",
        "        route = []\n",
        "        route_distance = 0\n",
        "        while not routing.IsEnd(index):\n",
        "            route.append(manager.IndexToNode(index))\n",
        "            previous_index = index\n",
        "            index = solution.Value(routing.NextVar(index))\n",
        "            route_distance += routing.GetArcCostForVehicle(\n",
        "                previous_index, index, vehicle_id\n",
        "            )\n",
        "        route.append(manager.IndexToNode(index))\n",
        "        route_distance += routing.GetArcCostForVehicle(previous_index, index, vehicle_id)\n",
        "        print(f\"Route for vehicle {vehicle_id}: {route}, Distance of the route: {route_distance}m\")\n",
        "        routes_sol.append(route)\n",
        "        max_route_distance = max(route_distance, max_route_distance)\n",
        "    print(f\"Maximum of the route distances: {max_route_distance}m\")\n",
        "    return routes_sol\n"
      ],
      "metadata": {
        "id": "PjhO67bdRlDi"
      },
      "execution_count": 9,
      "outputs": []
    },
    {
      "cell_type": "code",
      "source": [
        "def get_route_details(data, manager, routing, solution):\n",
        "    routes = []\n",
        "    for vehicle_id in range(data[\"num_vehicles\"]):\n",
        "        index = routing.Start(vehicle_id)\n",
        "        route = []\n",
        "        while not routing.IsEnd(index):\n",
        "            route.append(manager.IndexToNode(index))\n",
        "            index = solution.Value(routing.NextVar(index))\n",
        "        route.append(manager.IndexToNode(index))\n",
        "        routes.append(route)\n",
        "    return routes"
      ],
      "metadata": {
        "id": "c2eqzJyoRnZY"
      },
      "execution_count": 10,
      "outputs": []
    },
    {
      "cell_type": "code",
      "source": [
        "def get_route(start, end, tomtom_api_key):\n",
        "    url = f'https://api.tomtom.com/routing/1/calculateRoute/{start[0]},{start[1]}:{end[0]},{end[1]}/json?key={tomtom_api_key}'\n",
        "    response = requests.get(url)\n",
        "    if response.status_code == 200:\n",
        "        route_data = response.json()\n",
        "        route_geometry = route_data.get('routes')[0].get('legs')[0].get('points')\n",
        "        if route_geometry:\n",
        "            route_points = [(point['latitude'], point['longitude']) for point in route_geometry]\n",
        "            return route_points\n",
        "        else:\n",
        "            print(\"No route points found in the response:\", route_data)\n",
        "            return None\n",
        "    else:\n",
        "        print(\"Failed to fetch route:\", response.text)\n",
        "        return None"
      ],
      "metadata": {
        "id": "c5R3fEVKqUEf"
      },
      "execution_count": 11,
      "outputs": []
    },
    {
      "cell_type": "code",
      "source": [
        "def main():\n",
        "    # Instantiate the data problem.\n",
        "    data = create_data_model()\n",
        "\n",
        "    # Create the routing index manager.\n",
        "    manager = pywrapcp.RoutingIndexManager(\n",
        "        len(data[\"distance_matrix\"]), data[\"num_vehicles\"], data[\"depot\"]\n",
        "    )\n",
        "\n",
        "    # Create Routing Model.\n",
        "    routing = pywrapcp.RoutingModel(manager)\n",
        "\n",
        "    # Create and register a transit callback.\n",
        "    def distance_callback(from_index, to_index):\n",
        "        \"\"\"Returns the distance between the two nodes.\"\"\"\n",
        "        # Convert from routing variable Index to distance matrix NodeIndex.\n",
        "        from_node = manager.IndexToNode(from_index)\n",
        "        to_node = manager.IndexToNode(to_index)\n",
        "        return data[\"distance_matrix\"][from_node][to_node]\n",
        "\n",
        "    transit_callback_index = routing.RegisterTransitCallback(distance_callback)\n",
        "\n",
        "    # Define cost of each arc.\n",
        "    routing.SetArcCostEvaluatorOfAllVehicles(transit_callback_index)\n",
        "\n",
        "    # Add Distance constraint.\n",
        "    dimension_name = \"Distance\"\n",
        "    routing.AddDimension(\n",
        "        transit_callback_index,\n",
        "        0,  # no slack\n",
        "        3000,  # vehicle maximum travel distance\n",
        "        True,  # start cumul to zero\n",
        "        dimension_name,\n",
        "    )\n",
        "    distance_dimension = routing.GetDimensionOrDie(dimension_name)\n",
        "    distance_dimension.SetGlobalSpanCostCoefficient(100)\n",
        "\n",
        "    # Setting first solution heuristic.\n",
        "    search_parameters = pywrapcp.DefaultRoutingSearchParameters()\n",
        "    search_parameters.first_solution_strategy = (\n",
        "        routing_enums_pb2.FirstSolutionStrategy.PATH_CHEAPEST_ARC\n",
        "    )\n",
        "\n",
        "    # Solve the problem.\n",
        "    solution = routing.SolveWithParameters(search_parameters)\n",
        "\n",
        "    # Print solution on console.\n",
        "    if solution:\n",
        "        # Get the route details\n",
        "        routes = get_route_details(data, manager, routing, solution)\n",
        "\n",
        "        # Print solution details\n",
        "        routes_sol=print_solution(data, manager, routing, solution)\n",
        "    else:\n",
        "        print(\"No solution found !\")\n",
        "    # TomTom API key\n",
        "    tomtom_api_key = 'qN86js1EGFaSWvQ28TASgkUuphaxAnbF'\n",
        "\n",
        "    # Initialize the map\n",
        "    mymap = folium.Map(location=[13.08726, 80.2739], zoom_start=14)\n",
        "\n",
        "    # Plot the coordinates on the map\n",
        "    for i, location in enumerate(chennai_locations):\n",
        "        folium.Marker(location, popup=f'Location {i}').add_to(mymap)\n",
        "\n",
        "    # Define colors for each route\n",
        "    colors = ['red', 'green', 'blue']\n",
        "\n",
        "    # Get and plot the navigation between each route\n",
        "    for route, color in zip(routes_sol, colors):\n",
        "        for i in range(len(route) - 1):\n",
        "            start_index = route[i]\n",
        "            end_index = route[i + 1]\n",
        "            start = chennai_locations[start_index]\n",
        "            end = chennai_locations[end_index]\n",
        "            route_points = get_route(start, end, tomtom_api_key)\n",
        "            if route_points:\n",
        "                folium.PolyLine(route_points, color=color).add_to(mymap)\n",
        "\n",
        "    # Save the map to an HTML file\n",
        "    mymap.save('navigation_between_routes.html')\n"
      ],
      "metadata": {
        "id": "uO_pxUUNRygm"
      },
      "execution_count": 12,
      "outputs": []
    },
    {
      "cell_type": "code",
      "source": [
        "if __name__ == \"__main__\":\n",
        "    main()"
      ],
      "metadata": {
        "colab": {
          "base_uri": "https://localhost:8080/"
        },
        "id": "Hf_Y0zl7R3T0",
        "outputId": "c35d9a49-14f1-4e54-8fc7-9b297289bb12"
      },
      "execution_count": 13,
      "outputs": [
        {
          "output_type": "stream",
          "name": "stdout",
          "text": [
            "Objective: 127460\n",
            "Route for vehicle 0: [0, 1, 5, 0], Distance of the route: 1270m\n",
            "Route for vehicle 1: [0, 6, 2, 0], Distance of the route: 1850m\n",
            "Route for vehicle 2: [0, 4, 3, 0], Distance of the route: 1730m\n",
            "Maximum of the route distances: 1850m\n"
          ]
        }
      ]
    },
    {
      "cell_type": "markdown",
      "source": [
        "SAMPLE ROUGH GRID"
      ],
      "metadata": {
        "id": "3Vu32QBztMGm"
      }
    },
    {
      "cell_type": "code",
      "source": [
        "import folium\n",
        "\n",
        "# Set up Folium map with TomTom as the tile provider\n",
        "tomtom_api_key = 'qN86js1EGFaSWvQ28TASgkUuphaxAnbF'\n",
        "\n",
        "# Get the route between two coordinates from TomTom API\n",
        "def get_route(start, end, tomtom_api_key):\n",
        "    url = f'https://api.tomtom.com/routing/1/calculateRoute/{start[0]},{start[1]}:{end[0]},{end[1]}/json?key={tomtom_api_key}'\n",
        "    response = requests.get(url)\n",
        "    if response.status_code == 200:\n",
        "        route_data = response.json()\n",
        "        route_geometry = route_data.get('routes')[0].get('legs')[0].get('points')\n",
        "        if route_geometry:\n",
        "            route_points = [(point['latitude'], point['longitude']) for point in route_geometry]\n",
        "            return route_points\n",
        "        else:\n",
        "            print(\"No route points found in the response:\", route_data)\n",
        "            return None\n",
        "    else:\n",
        "        print(\"Failed to fetch route:\", response.text)\n",
        "        return None\n",
        "\n",
        "my_map = folium.Map(location=[13.08726, 80.2739], zoom_start=14, tiles=f\"https://api.tomtom.com/map/1/tile/basic/main/{{z}}/{{x}}/{{y}}.png?key={tomtom_api_key}\", attr='Map data © TomTom')\n",
        "\n",
        "# Add markers to the map for each location\n",
        "locations = [\n",
        "    (13.08726, 80.2739),  # Location 0\n",
        "    (13.08498, 80.2707),  # Location 1\n",
        "    (13.09182, 80.2707),  # Location 2\n",
        "    (13.0827, 80.2715),   # Location 3\n",
        "    (13.08384, 80.2715),  # Location 4\n",
        "    (13.0884, 80.2723),   # Location 5\n",
        "    (13.09068, 80.2723)   # Location 6\n",
        "]\n",
        "\n",
        "for i in range(len(locations)):\n",
        "    folium.Marker(location=locations[i], popup=f'Location {i}').add_to(my_map)\n",
        "\n",
        "# Define the routes\n",
        "routes = [\n",
        "    [0, 1, 5, 0],  # Route for vehicle 0\n",
        "    [0, 6, 2, 0],  # Route for vehicle 1\n",
        "    [0, 4, 3, 0]   # Route for vehicle 2\n",
        "]\n",
        "\n",
        "# Add polylines representing each route\n",
        "colors = ['blue', 'red', 'green']  # Define colors for each route\n",
        "for i, route in enumerate(routes):\n",
        "    route_locations = [locations[idx] for idx in route]\n",
        "    folium.PolyLine(route_locations, color=colors[i], weight=2.5, opacity=1).add_to(my_map)\n",
        "\n",
        "# Save the map as an HTML file\n",
        "my_map.save(\"map_rough.html\")"
      ],
      "metadata": {
        "id": "FPcu4cAMrv1w"
      },
      "execution_count": 14,
      "outputs": []
    }
  ]
}